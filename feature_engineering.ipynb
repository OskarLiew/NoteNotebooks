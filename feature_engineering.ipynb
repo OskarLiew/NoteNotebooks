{
 "cells": [
  {
   "cell_type": "markdown",
   "id": "exceptional-crown",
   "metadata": {},
   "source": [
    "# Featrue Engineering\n",
    "\n",
    "* [NVTabular](https://github.com/NVIDIA/NVTabular) for GPU-accelerated data preparation"
   ]
  },
  {
   "cell_type": "markdown",
   "id": "forbidden-introduction",
   "metadata": {},
   "source": [
    "# Time Series\n",
    "\n",
    "* Dates with radial basis functions: https://youtu.be/68ABAU_V8qI?t=318\n",
    "* Add importance column for example to weight newer datapoints more than older ones. (Weighted linear regression)\n"
   ]
  },
  {
   "cell_type": "code",
   "execution_count": null,
   "id": "second-cargo",
   "metadata": {},
   "outputs": [],
   "source": []
  }
 ],
 "metadata": {
  "kernelspec": {
   "display_name": "Python 3",
   "language": "python",
   "name": "python3"
  },
  "language_info": {
   "codemirror_mode": {
    "name": "ipython",
    "version": 3
   },
   "file_extension": ".py",
   "mimetype": "text/x-python",
   "name": "python",
   "nbconvert_exporter": "python",
   "pygments_lexer": "ipython3",
   "version": "3.8.5"
  }
 },
 "nbformat": 4,
 "nbformat_minor": 5
}
