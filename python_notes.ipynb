{
 "cells": [
  {
   "cell_type": "markdown",
   "id": "spectacular-million",
   "metadata": {},
   "source": [
    "# Python development notes"
   ]
  },
  {
   "cell_type": "code",
   "execution_count": 1,
   "id": "intimate-postcard",
   "metadata": {
    "ExecuteTime": {
     "end_time": "2021-02-22T18:57:12.474166Z",
     "start_time": "2021-02-22T18:57:12.371831Z"
    }
   },
   "outputs": [],
   "source": [
    "import numpy as np\n",
    "from pydantic import BaseModel\n",
    "from typing import List\n",
    "from datetime import datetime\n",
    "import logging\n",
    "import collections"
   ]
  },
  {
   "cell_type": "markdown",
   "id": "exterior-rugby",
   "metadata": {},
   "source": [
    "## Potential projects\n",
    "\n",
    "* Audio dimensionality reduction. Find similar samples from a 2d visualization https://papers.nips.cc/paper/8634-learning-representations-for-time-series-clustering"
   ]
  },
  {
   "cell_type": "markdown",
   "id": "promotional-peoples",
   "metadata": {},
   "source": [
    "# Python and Types"
   ]
  },
  {
   "cell_type": "markdown",
   "id": "aggregate-participation",
   "metadata": {},
   "source": [
    "## Duck Typing"
   ]
  },
  {
   "cell_type": "markdown",
   "id": "domestic-shade",
   "metadata": {},
   "source": [
    "If it looks like a duck and quacks like a duck, then it's probably a duck."
   ]
  },
  {
   "cell_type": "markdown",
   "id": "registered-movement",
   "metadata": {
    "ExecuteTime": {
     "end_time": "2021-02-22T18:57:46.055934Z",
     "start_time": "2021-02-22T18:57:46.053731Z"
    }
   },
   "source": [
    "## Pydantic"
   ]
  },
  {
   "cell_type": "markdown",
   "id": "conditional-crowd",
   "metadata": {},
   "source": [
    "### Numpy arrays in Pydantic Model"
   ]
  },
  {
   "cell_type": "code",
   "execution_count": 2,
   "id": "complex-preserve",
   "metadata": {
    "ExecuteTime": {
     "end_time": "2021-02-22T18:57:12.481385Z",
     "start_time": "2021-02-22T18:57:12.475490Z"
    }
   },
   "outputs": [],
   "source": [
    "class NumpyNDArray(np.ndarray):\n",
    "    \"\"\"Pydantic compatible data type for numpy ndarrays\"\"\"\n",
    "\n",
    "    @classmethod\n",
    "    def __get_validators__(cls):\n",
    "        yield cls.validate\n",
    "\n",
    "    @classmethod\n",
    "    def __modify_schema__(cls, field_schema):\n",
    "        field_schema.update(type=\"array\", items={\"type\": \"number\"})\n",
    "\n",
    "    @classmethod\n",
    "    def validate(cls, value: List) -> np.ndarray:\n",
    "        # Transform input to ndarray\n",
    "        return np.array(value)\n",
    "    \n",
    "\n",
    "class InputDataModel(BaseModel):\n",
    "\n",
    "    date_time: datetime\n",
    "    array: NumpyNDArray\n",
    "\n",
    "    class Config:\n",
    "        json_encoders = {\n",
    "            np.ndarray: lambda v: v.tolist(),\n",
    "            datetime: lambda v: datetime.strftime(v, \"%Y-%m-%d %H:%M:%S\"),\n",
    "        }"
   ]
  },
  {
   "cell_type": "markdown",
   "id": "typical-estonia",
   "metadata": {},
   "source": [
    "# Classes"
   ]
  },
  {
   "cell_type": "markdown",
   "id": "remarkable-adapter",
   "metadata": {},
   "source": [
    "## Special Method Names\n",
    "\n",
    "Classes can have many special method names that allow behaviour such as addition between objects or getting values by index. Comprehensive list: https://docs.python.org/3/reference/datamodel.html#special-method-names"
   ]
  },
  {
   "cell_type": "markdown",
   "id": "nonprofit-singles",
   "metadata": {},
   "source": [
    "## Inheritance"
   ]
  },
  {
   "cell_type": "markdown",
   "id": "balanced-remainder",
   "metadata": {},
   "source": [
    "## Abstract Base Class\n",
    "\n",
    "Let's you create a class that cannot be instantiated, only extended, and enforcing a certain interface."
   ]
  },
  {
   "cell_type": "code",
   "execution_count": 8,
   "id": "false-vampire",
   "metadata": {},
   "outputs": [
    {
     "name": "stdout",
     "output_type": "stream",
     "text": [
      "ERROR: Can't instantiate abstract class Exchange with abstract methods connect, get_market_data\n",
      "Connecting to Avanza\n",
      "Getting data from GME\n"
     ]
    },
    {
     "data": {
      "text/plain": [
       "[1, 2, 3, 4, 5]"
      ]
     },
     "execution_count": 8,
     "metadata": {},
     "output_type": "execute_result"
    }
   ],
   "source": [
    "from abc import ABC, abstractmethod\n",
    "from typing import List\n",
    "\n",
    "class Exchange(ABC):\n",
    "    \n",
    "    @abstractmethod\n",
    "    def connect(self):\n",
    "        pass\n",
    "    \n",
    "    @abstractmethod\n",
    "    def get_market_data(self, stock: str) -> List[float]:\n",
    "        pass\n",
    "\n",
    "try:\n",
    "    exchange = Exchange()\n",
    "except TypeError as exc:\n",
    "    print(f\"ERROR: {exc}\")\n",
    "    \n",
    "class AvanzaExchange(Exchange):\n",
    "    \n",
    "    def connect(self):\n",
    "        print(\"Connecting to Avanza\")\n",
    "        \n",
    "    def get_market_data(self, stock: str) -> List[float]:\n",
    "        print(f\"Getting data from {stock}\")\n",
    "        return [1,2,3,4,5]\n",
    "    \n",
    "exchange = AvanzaExchange()\n",
    "exchange.connect()\n",
    "exchange.get_market_data(\"GME\")"
   ]
  },
  {
   "cell_type": "markdown",
   "id": "living-victor",
   "metadata": {},
   "source": [
    "### Super\n",
    "\n",
    "Let's you call methods from the parent class without specifying it by name"
   ]
  },
  {
   "cell_type": "code",
   "execution_count": 3,
   "id": "proved-praise",
   "metadata": {
    "ExecuteTime": {
     "end_time": "2021-02-22T18:57:12.489030Z",
     "start_time": "2021-02-22T18:57:12.482749Z"
    }
   },
   "outputs": [],
   "source": [
    "class LoggingDict(dict):\n",
    "    def __setitem__(self, key, value):\n",
    "        logging.info('Setting %r to %r' % (key, value))\n",
    "        super().__setitem__(key, value)  # Call the __setitem__ function of parent class: dict\n",
    "\n",
    "        \n",
    "# Logging ordered dict\n",
    "class LoggingOD(LoggingDict, collections.OrderedDict):\n",
    "    pass"
   ]
  },
  {
   "cell_type": "markdown",
   "id": "logical-tomato",
   "metadata": {},
   "source": [
    "The ancestor tree for our new class is: `LoggingOD`, `LoggingDict`, `OrderedDict`, `dict`, `object`. For our purposes, the important result is that `OrderedDict` was inserted after `LoggingDict` and before `dict`! This means that the `super()` call in `LoggingDict.__setitem__` now dispatches the key/value update to `OrderedDict` instead of `dict`.\n",
    "\n",
    "Three requirements:\n",
    "\n",
    "1. the method being called by super() needs to exist\n",
    "2. the caller and callee need to have a matching argument signature\n",
    "3. and every occurrence of the method needs to use super()"
   ]
  },
  {
   "cell_type": "markdown",
   "id": "genetic-neutral",
   "metadata": {},
   "source": [
    "To solve 1. in an MRO-chain we might have to add a `Root` class that we guarantee to be called before object. `Root` can also employ defensive programming to make sure it isn't masking another method later in the chain."
   ]
  },
  {
   "cell_type": "code",
   "execution_count": 4,
   "id": "reduced-granny",
   "metadata": {
    "ExecuteTime": {
     "end_time": "2021-02-22T18:57:12.496080Z",
     "start_time": "2021-02-22T18:57:12.490553Z"
    }
   },
   "outputs": [
    {
     "name": "stdout",
     "output_type": "stream",
     "text": [
      "Drawing.  Setting color to: blue\n",
      "Drawing.  Setting shape to: square\n"
     ]
    }
   ],
   "source": [
    "class Root:\n",
    "    def draw(self):\n",
    "        # the delegation chain stops here\n",
    "        assert not hasattr(super(), 'draw')\n",
    "\n",
    "class Shape(Root):\n",
    "    def __init__(self, shapename, **kwds):\n",
    "        self.shapename = shapename\n",
    "        super().__init__(**kwds)\n",
    "    def draw(self):\n",
    "        print('Drawing.  Setting shape to:', self.shapename)\n",
    "        super().draw()\n",
    "\n",
    "class ColoredShape(Shape):\n",
    "    def __init__(self, color, **kwds):\n",
    "        self.color = color\n",
    "        super().__init__(**kwds)\n",
    "    def draw(self):\n",
    "        print('Drawing.  Setting color to:', self.color)\n",
    "        super().draw()\n",
    "\n",
    "cs = ColoredShape(color='blue', shapename='square')\n",
    "cs.draw()"
   ]
  },
  {
   "cell_type": "markdown",
   "id": "naked-hampton",
   "metadata": {},
   "source": [
    "Solve 2. by having classes accept keyword arguments and `**kwargs` and pass forward the unused `**kwargs`. `object.__init__` takes no arguments, so all arguments must be used by then."
   ]
  },
  {
   "cell_type": "code",
   "execution_count": 5,
   "id": "sporting-negative",
   "metadata": {
    "ExecuteTime": {
     "end_time": "2021-02-22T18:57:12.505032Z",
     "start_time": "2021-02-22T18:57:12.497054Z"
    }
   },
   "outputs": [],
   "source": [
    "class Shape:\n",
    "    def __init__(self, shapename, **kwds):\n",
    "        self.shapename = shapename\n",
    "        super().__init__(**kwds)        \n",
    "\n",
    "        \n",
    "class ColoredShape(Shape):\n",
    "    def __init__(self, color, **kwds):\n",
    "        self.color = color\n",
    "        super().__init__(**kwds)\n",
    "\n",
    "\n",
    "cs = ColoredShape(color='red', shapename='circle')"
   ]
  },
  {
   "cell_type": "markdown",
   "id": "white-electron",
   "metadata": {},
   "source": [
    "Point 3. is easily solved if we are building the chain from scratch, simply by adding `super()`. But some external classes might not use `super()` or do not inherit from the root class. Then use an adapter class. The following example does note make `super()` calls and has an `__init__` that is incompatible with `object.__init__` and it does not inherit from `Root`:"
   ]
  },
  {
   "cell_type": "code",
   "execution_count": 8,
   "id": "moderate-hawaii",
   "metadata": {
    "ExecuteTime": {
     "end_time": "2021-02-22T19:01:01.763421Z",
     "start_time": "2021-02-22T19:01:01.760801Z"
    }
   },
   "outputs": [],
   "source": [
    "class Moveable:\n",
    "    def __init__(self, x, y):\n",
    "        self.x = x\n",
    "        self.y = y\n",
    "    def draw(self):\n",
    "        print('Drawing at position:', self.x, self.y)"
   ]
  },
  {
   "cell_type": "markdown",
   "id": "asian-shepherd",
   "metadata": {},
   "source": [
    "If we want to use this class with our cooperatively designed ColoredShape hierarchy, we need to make an adapter with the requisite super() calls:"
   ]
  },
  {
   "cell_type": "code",
   "execution_count": 9,
   "id": "bottom-sacrifice",
   "metadata": {
    "ExecuteTime": {
     "end_time": "2021-02-22T19:01:12.737913Z",
     "start_time": "2021-02-22T19:01:12.733340Z"
    }
   },
   "outputs": [
    {
     "name": "stdout",
     "output_type": "stream",
     "text": [
      "Drawing at position: 10 20\n"
     ]
    }
   ],
   "source": [
    "class MoveableAdapter(Root):\n",
    "    def __init__(self, x, y, **kwds):\n",
    "        self.movable = Moveable(x, y)\n",
    "        super().__init__(**kwds)\n",
    "    def draw(self):\n",
    "        self.movable.draw()\n",
    "        super().draw()\n",
    "\n",
    "class MovableColoredShape(ColoredShape, MoveableAdapter):\n",
    "    pass\n",
    "\n",
    "MovableColoredShape(color='red', shapename='triangle',\n",
    "                    x=10, y=20).draw()"
   ]
  }
 ],
 "metadata": {
  "kernelspec": {
   "display_name": "Python 3",
   "language": "python",
   "name": "python3"
  },
  "language_info": {
   "codemirror_mode": {
    "name": "ipython",
    "version": 3
   },
   "file_extension": ".py",
   "mimetype": "text/x-python",
   "name": "python",
   "nbconvert_exporter": "python",
   "pygments_lexer": "ipython3",
   "version": "3.8.5"
  },
  "toc": {
   "base_numbering": 1,
   "nav_menu": {},
   "number_sections": true,
   "sideBar": true,
   "skip_h1_title": false,
   "title_cell": "Table of Contents",
   "title_sidebar": "Contents",
   "toc_cell": false,
   "toc_position": {},
   "toc_section_display": true,
   "toc_window_display": false
  },
  "varInspector": {
   "cols": {
    "lenName": 16,
    "lenType": 16,
    "lenVar": 40
   },
   "kernels_config": {
    "python": {
     "delete_cmd_postfix": "",
     "delete_cmd_prefix": "del ",
     "library": "var_list.py",
     "varRefreshCmd": "print(var_dic_list())"
    },
    "r": {
     "delete_cmd_postfix": ") ",
     "delete_cmd_prefix": "rm(",
     "library": "var_list.r",
     "varRefreshCmd": "cat(var_dic_list()) "
    }
   },
   "types_to_exclude": [
    "module",
    "function",
    "builtin_function_or_method",
    "instance",
    "_Feature"
   ],
   "window_display": false
  }
 },
 "nbformat": 4,
 "nbformat_minor": 5
}
