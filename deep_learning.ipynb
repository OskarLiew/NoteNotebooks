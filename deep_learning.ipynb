{
 "cells": [
  {
   "cell_type": "markdown",
   "id": "civilian-manner",
   "metadata": {},
   "source": [
    "# Deep Learning Notes"
   ]
  },
  {
   "cell_type": "markdown",
   "id": "binding-curve",
   "metadata": {},
   "source": [
    "# Deep Learning"
   ]
  },
  {
   "cell_type": "markdown",
   "id": "institutional-carpet",
   "metadata": {},
   "source": [
    "## Training Best Practices\n",
    "\n",
    "* Validation loss can increase because model becomes overconfident, listen more to metric\n",
    "* Progressive resizing to speed up training"
   ]
  },
  {
   "cell_type": "markdown",
   "id": "norwegian-skill",
   "metadata": {},
   "source": [
    "### Learning Rate Finder"
   ]
  },
  {
   "cell_type": "markdown",
   "id": "opposite-egypt",
   "metadata": {},
   "source": [
    "### Discriminative Learning Rate"
   ]
  },
  {
   "cell_type": "markdown",
   "id": "stretch-frank",
   "metadata": {},
   "source": [
    "### One Cycle policy"
   ]
  },
  {
   "cell_type": "markdown",
   "id": "young-forest",
   "metadata": {},
   "source": [
    "## Test-time Augmentation\n",
    "\n",
    "Create a few (~5-20) augmented copies of input data and predict with all of them, returning an enseble of their predictions. Often increases performance of a trained model."
   ]
  },
  {
   "cell_type": "markdown",
   "id": "needed-angel",
   "metadata": {},
   "source": [
    "## Tansfer Learning\n",
    "\n",
    "* Train the head (last layer) first. Freeze everything else and then start training the network with increasing learning rates by depth"
   ]
  },
  {
   "cell_type": "markdown",
   "id": "assigned-mission",
   "metadata": {},
   "source": [
    "## Tensor Broadcasting"
   ]
  },
  {
   "cell_type": "markdown",
   "id": "auburn-transportation",
   "metadata": {},
   "source": [
    "# Transform time series to images"
   ]
  },
  {
   "cell_type": "markdown",
   "id": "stupid-charger",
   "metadata": {},
   "source": [
    "# Data Augmentation\n",
    "\n",
    "* Flip, mirror, blur, discolor... images to artificially increse the size of the training data set. \n",
    "\n",
    "* Image presizing to avoid distorsions on edges of images.\n",
    "\n",
    "* MixUp: Blend two images and their labels. This regularizes the model. `alpha` should be sampled so it is more often close to 0 or 1. \n",
    "  * `newImage = alpha * image1 + (1-alpha) * image2`\n",
    "  * `newTarget = alpha * target1 + (1-alpha) * target2`\n",
    "  "
   ]
  },
  {
   "cell_type": "markdown",
   "id": "disabled-green",
   "metadata": {},
   "source": []
  }
 ],
 "metadata": {
  "kernelspec": {
   "display_name": "Python 3",
   "language": "python",
   "name": "python3"
  },
  "language_info": {
   "codemirror_mode": {
    "name": "ipython",
    "version": 3
   },
   "file_extension": ".py",
   "mimetype": "text/x-python",
   "name": "python",
   "nbconvert_exporter": "python",
   "pygments_lexer": "ipython3",
   "version": "3.8.5"
  }
 },
 "nbformat": 4,
 "nbformat_minor": 5
}
