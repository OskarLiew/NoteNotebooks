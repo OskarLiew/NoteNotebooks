{
 "cells": [
  {
   "cell_type": "markdown",
   "id": "governmental-customer",
   "metadata": {},
   "source": [
    "# General Data Science Notes"
   ]
  },
  {
   "cell_type": "markdown",
   "id": "prompt-skill",
   "metadata": {},
   "source": [
    "## Think when making train/test-split\n",
    "\n",
    "For example. In a time series setting, make the test data the most recent data points so you know how well you can predict the future"
   ]
  },
  {
   "cell_type": "markdown",
   "id": "understanding-lender",
   "metadata": {},
   "source": [
    "## Passive Agressive Algorithms\n",
    "\n",
    "Train a model by keeping its parameters and updating for every new data point by taking a step towards the new optimal fit.\n",
    "\n",
    "Tip:\n",
    "\n",
    "* Small step size early in training, larger after convergence\n",
    "\n",
    "Pros:\n",
    "\n",
    "* Saves a lot of memory by not having to keep the entire dataset in memory\n",
    "* Easily used for streaming data\n",
    "* Robust to domain drift\n",
    "\n",
    "Cons:\n",
    "\n",
    "* Streaming data does not often come with a label\n"
   ]
  },
  {
   "cell_type": "markdown",
   "id": "cooked-parts",
   "metadata": {},
   "source": [
    "## A/B Testing\n",
    "\n",
    "(Not verified): $\\chi^2$-test\n",
    "\n",
    "Tips:\n",
    "\n",
    "* Use A/A testing as baseline to see if A/B testing makes a difference\n",
    "* Use A/random testing to see if just picking random stuff is better than the model"
   ]
  },
  {
   "cell_type": "code",
   "execution_count": null,
   "id": "korean-subsection",
   "metadata": {},
   "outputs": [],
   "source": []
  }
 ],
 "metadata": {
  "kernelspec": {
   "display_name": "Python 3",
   "language": "python",
   "name": "python3"
  },
  "language_info": {
   "codemirror_mode": {
    "name": "ipython",
    "version": 3
   },
   "file_extension": ".py",
   "mimetype": "text/x-python",
   "name": "python",
   "nbconvert_exporter": "python",
   "pygments_lexer": "ipython3",
   "version": "3.8.5"
  }
 },
 "nbformat": 4,
 "nbformat_minor": 5
}
