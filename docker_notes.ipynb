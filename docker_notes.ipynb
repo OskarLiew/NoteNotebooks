{
 "cells": [
  {
   "cell_type": "markdown",
   "id": "sporting-prayer",
   "metadata": {},
   "source": [
    "# Docker Notes"
   ]
  },
  {
   "cell_type": "markdown",
   "id": "numerical-breath",
   "metadata": {},
   "source": [
    "## Dockerfiles\n",
    "\n",
    "TODO"
   ]
  },
  {
   "cell_type": "markdown",
   "id": "wrapped-missouri",
   "metadata": {},
   "source": [
    "## Docker + GPU\n",
    "\n",
    "### Using NVIDIA Container Toolkit\n",
    "\n",
    "Installation steps:\n",
    "[https://docs.docker.com/config/containers/resource_constraints/#gpu](https://docs.docker.com/config/containers/resource_constraints/#gpu)\n",
    "\n",
    "Get the distribution:\n",
    "\n",
    "(for debian-based, such as ubuntu)\n",
    "```bash\n",
    "curl -s -L https://nvidia.github.io/nvidia-container-runtime/gpgkey | \\\n",
    "  sudo apt-key add -\n",
    "distribution=$(. /etc/os-release;echo $ID$VERSION_ID)\n",
    "curl -s -L https://nvidia.github.io/nvidia-container-runtime/$distribution/nvidia-container-runtime.list | \\\n",
    "  sudo tee /etc/apt/sources.list.d/nvidia-container-runtime.list\n",
    "sudo apt-get update\n",
    "```\n",
    "\n",
    "Install it:\n",
    "\n",
    "```bash\n",
    "apt-get install nvidia-container-runtime\n",
    "which nvidia-container-runtime-hook\n",
    "```\n",
    "\n",
    "Restart docker:\n",
    "\n",
    "```bash\n",
    "sudo systemctl daemon-reload\n",
    "sudo systemctl restart docker\n",
    "```\n",
    "\n",
    "Start a container with:\n",
    "\n",
    "`docker run -it --rm --gpus all ubuntu nvidia-smi`\n",
    "\n",
    "### Using a GPU image\n",
    "\n",
    "Basic Dockerfile to make an image for a python program in /app/. nvidia/cuda:10.2-base image comes will graphics card drivers.\n",
    "\n",
    "```Dockerfile\n",
    "FROM nvidia/cuda:10.2-base\n",
    "CMD nvidia-smi\n",
    "\n",
    "#set up environment\n",
    "RUN apt-get update && apt-get install --no-install-recommends --no-install-suggests -y curl\n",
    "RUN apt-get install unzip\n",
    "RUN apt-get -y install python3\n",
    "RUN apt-get -y install python3-pip\n",
    "\n",
    "COPY app/requirements.txt /app/requirements.txt\n",
    "\n",
    "RUN pip3 install -r /app/requirements.txt\n",
    "\n",
    "#copies the applicaiton from local path to container path\n",
    "COPY app/ /app/\n",
    "WORKDIR /app\n",
    "\n",
    "CMD [\"python3\", \"main.py\"]\n",
    "```\n",
    "\n",
    "Start the container with:\n",
    "\n",
    "`docker run --gpus all nvidia-test`\n"
   ]
  },
  {
   "cell_type": "code",
   "execution_count": null,
   "id": "naughty-button",
   "metadata": {},
   "outputs": [],
   "source": []
  }
 ],
 "metadata": {
  "kernelspec": {
   "display_name": "Python 3",
   "language": "python",
   "name": "python3"
  },
  "language_info": {
   "codemirror_mode": {
    "name": "ipython",
    "version": 3
   },
   "file_extension": ".py",
   "mimetype": "text/x-python",
   "name": "python",
   "nbconvert_exporter": "python",
   "pygments_lexer": "ipython3",
   "version": "3.8.5"
  }
 },
 "nbformat": 4,
 "nbformat_minor": 5
}
