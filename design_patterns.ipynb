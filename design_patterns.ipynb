{
 "cells": [
  {
   "cell_type": "markdown",
   "id": "every-elements",
   "metadata": {},
   "source": [
    "# Design Patterns in Python"
   ]
  },
  {
   "cell_type": "markdown",
   "id": "static-football",
   "metadata": {},
   "source": [
    "## Factory Pattern"
   ]
  },
  {
   "cell_type": "markdown",
   "id": "educated-summit",
   "metadata": {},
   "source": [
    "## Strategy Pattern"
   ]
  },
  {
   "cell_type": "markdown",
   "id": "quarterly-tobago",
   "metadata": {},
   "source": [
    "## Observer Pattern (Events)"
   ]
  },
  {
   "cell_type": "markdown",
   "id": "social-dylan",
   "metadata": {},
   "source": [
    "## Publish-Subscribe Pattern (Events)"
   ]
  },
  {
   "cell_type": "markdown",
   "id": "amber-singer",
   "metadata": {},
   "source": [
    "## Template Pattern"
   ]
  },
  {
   "cell_type": "markdown",
   "id": "successful-syndrome",
   "metadata": {},
   "source": [
    "## Bridge Pattern\n",
    "\n",
    "Let's you have two or more class hierarchies that can change independent of each other. Makes it easy to add/change one part of the program without affecting another"
   ]
  },
  {
   "cell_type": "code",
   "execution_count": 1,
   "id": "attended-gentleman",
   "metadata": {},
   "outputs": [],
   "source": [
    "# This example shows the Template and Bridge Pattern together\n",
    "\n",
    "from abc import ABC, abstractmethod\n",
    "from typing import List\n",
    "\n",
    "class Exchange(ABC):\n",
    "    \n",
    "    @abstractmethod\n",
    "    def connect(self):\n",
    "        pass\n",
    "    \n",
    "    @abstractmethod\n",
    "    def get_market_data(self, stock: str) -> List[float]:\n",
    "        pass\n",
    "\n",
    "\n",
    "class TradingBot(ABC):\n",
    "    \n",
    "    def __init__(self, exchange: Exchange):\n",
    "        self.exchange = exchange  # This is the bridge between Exchange and TradingBot\n",
    "        \n",
    "    @abstractmethod\n",
    "    def should_buy(self, prices: List[float]) -> bool:\n",
    "        pass\n",
    "    \n",
    "    @abstractmethod\n",
    "    def should_sell(self, prices: List[float]) -> bool:\n",
    "        pass\n",
    "    \n",
    "    def check_prices(self, stock: str):\n",
    "        self.exchange.connect()\n",
    "        prices = self.exchange.get_market_data(stock)\n",
    "        should_buy = self.should_buy()\n",
    "        should_sell = self.should_sell()\n",
    "        \n",
    "        if should_buy:\n",
    "            print(f\"You should buy {stock}\")\n",
    "        elif should_sell:\n",
    "            print(f\"You should sell {stock}\")\n",
    "        else:\n",
    "            print(f\"No action needed for {stock}\")"
   ]
  }
 ],
 "metadata": {
  "kernelspec": {
   "display_name": "Python 3",
   "language": "python",
   "name": "python3"
  },
  "language_info": {
   "codemirror_mode": {
    "name": "ipython",
    "version": 3
   },
   "file_extension": ".py",
   "mimetype": "text/x-python",
   "name": "python",
   "nbconvert_exporter": "python",
   "pygments_lexer": "ipython3",
   "version": "3.8.5"
  }
 },
 "nbformat": 4,
 "nbformat_minor": 5
}
