{
 "cells": [
  {
   "cell_type": "markdown",
   "id": "level-enough",
   "metadata": {},
   "source": [
    "# SQL Notes"
   ]
  },
  {
   "cell_type": "markdown",
   "id": "stylish-latest",
   "metadata": {},
   "source": [
    "## Basic Syntax\n",
    "\n",
    "```SQL\n",
    "SELECT DISTINCT column, AGG_FUNC(column_or_expression), …\n",
    "FROM mytable\n",
    "    JOIN another_table\n",
    "      ON mytable.column = another_table.column\n",
    "    WHERE constraint_expression\n",
    "    GROUP BY column\n",
    "    HAVING constraint_expression\n",
    "    ORDER BY column ASC/DESC\n",
    "    LIMIT count OFFSET COUNT;\n",
    "```"
   ]
  },
  {
   "cell_type": "markdown",
   "id": "better-accounting",
   "metadata": {},
   "source": [
    "## JOINs\n",
    "\n",
    "> The INNER JOIN is a process that matches rows from the first table and the second table which have the same key (as defined by the ON constraint) to create a result row with the combined columns from both tables.\n",
    "\n",
    "> Like the INNER JOIN these three new joins have to specify which column to join the data on.\n",
    "When joining table A to table B, a LEFT JOIN simply includes rows from A regardless of whether a matching row is found in B. The RIGHT JOIN is the same, but reversed, keeping rows in B regardless of whether a match is found in A. Finally, a FULL JOIN simply means that rows from both tables are kept, regardless of whether a matching row exists in the other table.\n",
    "\n",
    "In short\n",
    "\n",
    "```SQL\n",
    "INNER JOIN\n",
    "```\n",
    "\n",
    "Combines two tables by selecting records where a chosen column matches for both tables\n",
    "\n",
    "```SQL\n",
    "LEFT JOIN\n",
    "```\n",
    "\n",
    "Combines two tables with all records from the first (left) table and all matching records from the second table. Can result in missing values\n",
    "\n",
    "```SQL\n",
    "RIGHT JOIN\n",
    "```\n",
    "\n",
    "Same as left join except all recods from the second (right) table are kept and all matching records from the first one are included.\n",
    "\n",
    "```SQL\n",
    "FULL JOIN\n",
    "```\n",
    "\n",
    "Includes all values from both the left and the right table. Can result in missing values on both sides\n"
   ]
  },
  {
   "cell_type": "code",
   "execution_count": null,
   "id": "center-atlantic",
   "metadata": {},
   "outputs": [],
   "source": []
  }
 ],
 "metadata": {
  "kernelspec": {
   "display_name": "Python 3",
   "language": "python",
   "name": "python3"
  },
  "language_info": {
   "codemirror_mode": {
    "name": "ipython",
    "version": 3
   },
   "file_extension": ".py",
   "mimetype": "text/x-python",
   "name": "python",
   "nbconvert_exporter": "python",
   "pygments_lexer": "ipython3",
   "version": "3.8.5"
  },
  "toc": {
   "base_numbering": 1,
   "nav_menu": {},
   "number_sections": true,
   "sideBar": true,
   "skip_h1_title": false,
   "title_cell": "Table of Contents",
   "title_sidebar": "Contents",
   "toc_cell": false,
   "toc_position": {},
   "toc_section_display": true,
   "toc_window_display": false
  },
  "varInspector": {
   "cols": {
    "lenName": 16,
    "lenType": 16,
    "lenVar": 40
   },
   "kernels_config": {
    "python": {
     "delete_cmd_postfix": "",
     "delete_cmd_prefix": "del ",
     "library": "var_list.py",
     "varRefreshCmd": "print(var_dic_list())"
    },
    "r": {
     "delete_cmd_postfix": ") ",
     "delete_cmd_prefix": "rm(",
     "library": "var_list.r",
     "varRefreshCmd": "cat(var_dic_list()) "
    }
   },
   "types_to_exclude": [
    "module",
    "function",
    "builtin_function_or_method",
    "instance",
    "_Feature"
   ],
   "window_display": false
  }
 },
 "nbformat": 4,
 "nbformat_minor": 5
}
