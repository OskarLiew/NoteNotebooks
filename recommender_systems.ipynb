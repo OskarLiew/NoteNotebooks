{
 "cells": [
  {
   "cell_type": "markdown",
   "id": "mobile-yesterday",
   "metadata": {},
   "source": [
    "# Recommender Systems"
   ]
  },
  {
   "cell_type": "markdown",
   "id": "activated-rental",
   "metadata": {},
   "source": [
    "## Simple way without matrix factorixation or deep learning:\n",
    "\n",
    "Assume content $i$ and $j$, e.g. movies\n",
    "\n",
    "Rating $r = p(i \\cup j) / p(j)$ where $p(i \\cup j)$ is the probability of consuming $i$ and $j$ and $p(j)$ is the probability of consuming only $j$.\n",
    "\n",
    "Tip: Recommending the next episode is even better"
   ]
  }
 ],
 "metadata": {
  "kernelspec": {
   "display_name": "Python 3",
   "language": "python",
   "name": "python3"
  },
  "language_info": {
   "codemirror_mode": {
    "name": "ipython",
    "version": 3
   },
   "file_extension": ".py",
   "mimetype": "text/x-python",
   "name": "python",
   "nbconvert_exporter": "python",
   "pygments_lexer": "ipython3",
   "version": "3.8.5"
  }
 },
 "nbformat": 4,
 "nbformat_minor": 5
}
